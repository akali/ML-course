{
 "cells": [
  {
   "cell_type": "code",
   "execution_count": 4,
   "metadata": {},
   "outputs": [],
   "source": [
    "import re\n",
    "from itertools import chain\n",
    "f = open('sentences.txt')\n",
    "\n",
    "def sentenceToTokens(line):\n",
    "    tokens = []\n",
    "    for token in re.split('[^a-zA-Z]', line):\n",
    "        if (token != '' and token is not None):\n",
    "            tokens.append(token)\n",
    "    return tokens\n",
    "\n",
    "def toLower(line):\n",
    "    res = ''\n",
    "    for word in line.split():\n",
    "        if (word.lower() != ''):\n",
    "            res += (word.lower() + ' ')\n",
    "    return res\n",
    "\n",
    "tokens = []\n",
    "sentences = []\n",
    "sentenceTokens = []\n",
    "\n",
    "for line in f.readlines():\n",
    "    sentence = toLower(line)\n",
    "    for token in sentenceToTokens(sentence):\n",
    "        tokens.append(token)\n",
    "    sentenceTokens.append(sentenceToTokens(sentence))\n",
    "    sentences.append(sentence)"
   ]
  },
  {
   "cell_type": "code",
   "execution_count": 5,
   "metadata": {},
   "outputs": [],
   "source": [
    "d = dict()\n",
    "for token in tokens:\n",
    "    d[token] = 1\n",
    "cnt = 0\n",
    "for key in d:\n",
    "    d[key] = cnt\n",
    "    cnt = cnt + 1"
   ]
  },
  {
   "cell_type": "code",
   "execution_count": 6,
   "metadata": {},
   "outputs": [],
   "source": [
    "m = []\n",
    "for st in sentenceTokens:\n",
    "    v = []\n",
    "    for token in d:\n",
    "        v.append(st.count(token))\n",
    "    m.append(v)"
   ]
  },
  {
   "cell_type": "code",
   "execution_count": 7,
   "metadata": {},
   "outputs": [
    {
     "name": "stdout",
     "output_type": "stream",
     "text": [
      "[0.2672612419124244, 6]\n",
      "[0.22291128503014113, 4]\n"
     ]
    }
   ],
   "source": [
    "from scipy import spatial\n",
    "\n",
    "dists = []\n",
    "\n",
    "for idx in range(len(m)):\n",
    "    v = m[idx]\n",
    "    if (idx == 0):\n",
    "        continue\n",
    "    result = 1 - spatial.distance.cosine(m[0], v)\n",
    "    dists.append([result, idx])\n",
    "dists.sort()\n",
    "dists =  dists[::-1]\n",
    "print dists[0]\n",
    "print dists[1]"
   ]
  },
  {
   "cell_type": "code",
   "execution_count": 8,
   "metadata": {},
   "outputs": [
    {
     "name": "stdout",
     "output_type": "stream",
     "text": [
      "/home/aqali/anaconda2/envs/ipykernel_py2/bin/python\n"
     ]
    }
   ],
   "source": [
    "import sys\n",
    "print(sys.executable)"
   ]
  },
  {
   "cell_type": "code",
   "execution_count": null,
   "metadata": {},
   "outputs": [],
   "source": []
  },
  {
   "cell_type": "code",
   "execution_count": null,
   "metadata": {},
   "outputs": [],
   "source": []
  }
 ],
 "metadata": {
  "kernelspec": {
   "display_name": "Python 2",
   "language": "python",
   "name": "python2"
  },
  "language_info": {
   "codemirror_mode": {
    "name": "ipython",
    "version": 2
   },
   "file_extension": ".py",
   "mimetype": "text/x-python",
   "name": "python",
   "nbconvert_exporter": "python",
   "pygments_lexer": "ipython2",
   "version": "2.7.15"
  }
 },
 "nbformat": 4,
 "nbformat_minor": 2
}
