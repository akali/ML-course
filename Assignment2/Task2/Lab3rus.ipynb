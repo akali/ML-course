{
 "cells": [
  {
   "cell_type": "markdown",
   "metadata": {},
   "source": [
    "# Лабораторная работа 3. Pandas, метод ближайших соседей и решающие деревья."
   ]
  },
  {
   "cell_type": "markdown",
   "metadata": {},
   "source": [
    "Name: Aisultan Kali\n",
    "\n",
    "Student ID: 16BD02150\n",
    "\n",
    "Email: aisultan.kali@gmail.com"
   ]
  },
  {
   "cell_type": "code",
   "execution_count": 1,
   "metadata": {},
   "outputs": [],
   "source": [
    "import numpy as np\n",
    "import pandas as pd"
   ]
  },
  {
   "cell_type": "markdown",
   "metadata": {},
   "source": [
    "## Часть 1: Pandas"
   ]
  },
  {
   "cell_type": "markdown",
   "metadata": {},
   "source": [
    "#### Ответьте на вопросы о данных по авиарейсам в США.\n",
    "\n",
    "Данные: http://stat-computing.org/dataexpo/2009/2008.csv.bz2\n",
    "(обратите внимание, что распаковывать этот файл не обязательно — функция `pandas.read_csv` умеет читать из архивов автоматически)\n",
    "\n",
    "Описание: http://stat-computing.org/dataexpo/2009/the-data.html\n",
    "\n",
    "1. Какая из причин отмены рейса (`CancellationCode`) была самой частой? (расшифровки кодов можно найти в описании данных)\n",
    "2. Найдите среднее, минимальное и максимальное расстояние, пройденное самолетом.\n",
    "3. Не выглядит ли подозрительным минимальное пройденное расстояние? В какие дни и на каких рейсах оно было? Какое расстояние было пройдено этими же рейсами в другие дни?\n",
    "4. Из какого аэропорта было произведено больше всего вылетов? В каком городе он находится?\n",
    "5. Найдите для каждого аэропорта среднее время полета (`AirTime`) по всем вылетевшим из него рейсам. Какой аэропорт имеет наибольшее значение этого показателя?\n",
    "6. Найдите аэропорт, у которого наибольшая доля задержанных (`DepDelay > 0`) рейсов. Исключите при этом из рассмотрения аэропорты, из которых было отправлено меньше 1000 рейсов (используйте функцию `filter` после `groupby`)."
   ]
  },
  {
   "cell_type": "code",
   "execution_count": 2,
   "metadata": {},
   "outputs": [
    {
     "data": {
      "text/html": [
       "<div>\n",
       "<style scoped>\n",
       "    .dataframe tbody tr th:only-of-type {\n",
       "        vertical-align: middle;\n",
       "    }\n",
       "\n",
       "    .dataframe tbody tr th {\n",
       "        vertical-align: top;\n",
       "    }\n",
       "\n",
       "    .dataframe thead th {\n",
       "        text-align: right;\n",
       "    }\n",
       "</style>\n",
       "<table border=\"1\" class=\"dataframe\">\n",
       "  <thead>\n",
       "    <tr style=\"text-align: right;\">\n",
       "      <th></th>\n",
       "      <th>Year</th>\n",
       "      <th>Month</th>\n",
       "      <th>DayofMonth</th>\n",
       "      <th>DayOfWeek</th>\n",
       "      <th>DepTime</th>\n",
       "      <th>CRSDepTime</th>\n",
       "      <th>ArrTime</th>\n",
       "      <th>CRSArrTime</th>\n",
       "      <th>UniqueCarrier</th>\n",
       "      <th>FlightNum</th>\n",
       "      <th>...</th>\n",
       "      <th>TaxiIn</th>\n",
       "      <th>TaxiOut</th>\n",
       "      <th>Cancelled</th>\n",
       "      <th>CancellationCode</th>\n",
       "      <th>Diverted</th>\n",
       "      <th>CarrierDelay</th>\n",
       "      <th>WeatherDelay</th>\n",
       "      <th>NASDelay</th>\n",
       "      <th>SecurityDelay</th>\n",
       "      <th>LateAircraftDelay</th>\n",
       "    </tr>\n",
       "  </thead>\n",
       "  <tbody>\n",
       "    <tr>\n",
       "      <th>count</th>\n",
       "      <td>7009728.0</td>\n",
       "      <td>7.009728e+06</td>\n",
       "      <td>7.009728e+06</td>\n",
       "      <td>7.009728e+06</td>\n",
       "      <td>6.873482e+06</td>\n",
       "      <td>7.009728e+06</td>\n",
       "      <td>6.858079e+06</td>\n",
       "      <td>7.009728e+06</td>\n",
       "      <td>7009728</td>\n",
       "      <td>7.009728e+06</td>\n",
       "      <td>...</td>\n",
       "      <td>6.858079e+06</td>\n",
       "      <td>6.872670e+06</td>\n",
       "      <td>7.009728e+06</td>\n",
       "      <td>137434</td>\n",
       "      <td>7.009728e+06</td>\n",
       "      <td>1.524735e+06</td>\n",
       "      <td>1.524735e+06</td>\n",
       "      <td>1.524735e+06</td>\n",
       "      <td>1.524735e+06</td>\n",
       "      <td>1.524735e+06</td>\n",
       "    </tr>\n",
       "    <tr>\n",
       "      <th>unique</th>\n",
       "      <td>NaN</td>\n",
       "      <td>NaN</td>\n",
       "      <td>NaN</td>\n",
       "      <td>NaN</td>\n",
       "      <td>NaN</td>\n",
       "      <td>NaN</td>\n",
       "      <td>NaN</td>\n",
       "      <td>NaN</td>\n",
       "      <td>20</td>\n",
       "      <td>NaN</td>\n",
       "      <td>...</td>\n",
       "      <td>NaN</td>\n",
       "      <td>NaN</td>\n",
       "      <td>NaN</td>\n",
       "      <td>4</td>\n",
       "      <td>NaN</td>\n",
       "      <td>NaN</td>\n",
       "      <td>NaN</td>\n",
       "      <td>NaN</td>\n",
       "      <td>NaN</td>\n",
       "      <td>NaN</td>\n",
       "    </tr>\n",
       "    <tr>\n",
       "      <th>top</th>\n",
       "      <td>NaN</td>\n",
       "      <td>NaN</td>\n",
       "      <td>NaN</td>\n",
       "      <td>NaN</td>\n",
       "      <td>NaN</td>\n",
       "      <td>NaN</td>\n",
       "      <td>NaN</td>\n",
       "      <td>NaN</td>\n",
       "      <td>WN</td>\n",
       "      <td>NaN</td>\n",
       "      <td>...</td>\n",
       "      <td>NaN</td>\n",
       "      <td>NaN</td>\n",
       "      <td>NaN</td>\n",
       "      <td>B</td>\n",
       "      <td>NaN</td>\n",
       "      <td>NaN</td>\n",
       "      <td>NaN</td>\n",
       "      <td>NaN</td>\n",
       "      <td>NaN</td>\n",
       "      <td>NaN</td>\n",
       "    </tr>\n",
       "    <tr>\n",
       "      <th>freq</th>\n",
       "      <td>NaN</td>\n",
       "      <td>NaN</td>\n",
       "      <td>NaN</td>\n",
       "      <td>NaN</td>\n",
       "      <td>NaN</td>\n",
       "      <td>NaN</td>\n",
       "      <td>NaN</td>\n",
       "      <td>NaN</td>\n",
       "      <td>1201754</td>\n",
       "      <td>NaN</td>\n",
       "      <td>...</td>\n",
       "      <td>NaN</td>\n",
       "      <td>NaN</td>\n",
       "      <td>NaN</td>\n",
       "      <td>54904</td>\n",
       "      <td>NaN</td>\n",
       "      <td>NaN</td>\n",
       "      <td>NaN</td>\n",
       "      <td>NaN</td>\n",
       "      <td>NaN</td>\n",
       "      <td>NaN</td>\n",
       "    </tr>\n",
       "    <tr>\n",
       "      <th>mean</th>\n",
       "      <td>2008.0</td>\n",
       "      <td>6.375130e+00</td>\n",
       "      <td>1.572801e+01</td>\n",
       "      <td>3.924182e+00</td>\n",
       "      <td>1.333830e+03</td>\n",
       "      <td>1.326086e+03</td>\n",
       "      <td>1.481258e+03</td>\n",
       "      <td>1.494801e+03</td>\n",
       "      <td>NaN</td>\n",
       "      <td>2.224200e+03</td>\n",
       "      <td>...</td>\n",
       "      <td>6.860852e+00</td>\n",
       "      <td>1.645305e+01</td>\n",
       "      <td>1.960618e-02</td>\n",
       "      <td>NaN</td>\n",
       "      <td>2.463006e-03</td>\n",
       "      <td>1.577206e+01</td>\n",
       "      <td>3.039031e+00</td>\n",
       "      <td>1.716462e+01</td>\n",
       "      <td>7.497434e-02</td>\n",
       "      <td>2.077098e+01</td>\n",
       "    </tr>\n",
       "    <tr>\n",
       "      <th>std</th>\n",
       "      <td>0.0</td>\n",
       "      <td>3.406737e+00</td>\n",
       "      <td>8.797068e+00</td>\n",
       "      <td>1.988259e+00</td>\n",
       "      <td>4.780689e+02</td>\n",
       "      <td>4.642509e+02</td>\n",
       "      <td>5.052251e+02</td>\n",
       "      <td>4.826728e+02</td>\n",
       "      <td>NaN</td>\n",
       "      <td>1.961716e+03</td>\n",
       "      <td>...</td>\n",
       "      <td>4.933649e+00</td>\n",
       "      <td>1.133280e+01</td>\n",
       "      <td>1.386426e-01</td>\n",
       "      <td>NaN</td>\n",
       "      <td>4.956753e-02</td>\n",
       "      <td>4.009912e+01</td>\n",
       "      <td>1.950287e+01</td>\n",
       "      <td>3.189495e+01</td>\n",
       "      <td>1.837940e+00</td>\n",
       "      <td>3.925964e+01</td>\n",
       "    </tr>\n",
       "    <tr>\n",
       "      <th>min</th>\n",
       "      <td>2008.0</td>\n",
       "      <td>1.000000e+00</td>\n",
       "      <td>1.000000e+00</td>\n",
       "      <td>1.000000e+00</td>\n",
       "      <td>1.000000e+00</td>\n",
       "      <td>0.000000e+00</td>\n",
       "      <td>1.000000e+00</td>\n",
       "      <td>0.000000e+00</td>\n",
       "      <td>NaN</td>\n",
       "      <td>1.000000e+00</td>\n",
       "      <td>...</td>\n",
       "      <td>0.000000e+00</td>\n",
       "      <td>0.000000e+00</td>\n",
       "      <td>0.000000e+00</td>\n",
       "      <td>NaN</td>\n",
       "      <td>0.000000e+00</td>\n",
       "      <td>0.000000e+00</td>\n",
       "      <td>0.000000e+00</td>\n",
       "      <td>0.000000e+00</td>\n",
       "      <td>0.000000e+00</td>\n",
       "      <td>0.000000e+00</td>\n",
       "    </tr>\n",
       "    <tr>\n",
       "      <th>25%</th>\n",
       "      <td>2008.0</td>\n",
       "      <td>3.000000e+00</td>\n",
       "      <td>8.000000e+00</td>\n",
       "      <td>2.000000e+00</td>\n",
       "      <td>9.280000e+02</td>\n",
       "      <td>9.250000e+02</td>\n",
       "      <td>1.107000e+03</td>\n",
       "      <td>1.115000e+03</td>\n",
       "      <td>NaN</td>\n",
       "      <td>6.220000e+02</td>\n",
       "      <td>...</td>\n",
       "      <td>4.000000e+00</td>\n",
       "      <td>1.000000e+01</td>\n",
       "      <td>0.000000e+00</td>\n",
       "      <td>NaN</td>\n",
       "      <td>0.000000e+00</td>\n",
       "      <td>0.000000e+00</td>\n",
       "      <td>0.000000e+00</td>\n",
       "      <td>0.000000e+00</td>\n",
       "      <td>0.000000e+00</td>\n",
       "      <td>0.000000e+00</td>\n",
       "    </tr>\n",
       "    <tr>\n",
       "      <th>50%</th>\n",
       "      <td>2008.0</td>\n",
       "      <td>6.000000e+00</td>\n",
       "      <td>1.600000e+01</td>\n",
       "      <td>4.000000e+00</td>\n",
       "      <td>1.325000e+03</td>\n",
       "      <td>1.320000e+03</td>\n",
       "      <td>1.512000e+03</td>\n",
       "      <td>1.517000e+03</td>\n",
       "      <td>NaN</td>\n",
       "      <td>1.571000e+03</td>\n",
       "      <td>...</td>\n",
       "      <td>6.000000e+00</td>\n",
       "      <td>1.400000e+01</td>\n",
       "      <td>0.000000e+00</td>\n",
       "      <td>NaN</td>\n",
       "      <td>0.000000e+00</td>\n",
       "      <td>0.000000e+00</td>\n",
       "      <td>0.000000e+00</td>\n",
       "      <td>6.000000e+00</td>\n",
       "      <td>0.000000e+00</td>\n",
       "      <td>0.000000e+00</td>\n",
       "    </tr>\n",
       "    <tr>\n",
       "      <th>75%</th>\n",
       "      <td>2008.0</td>\n",
       "      <td>9.000000e+00</td>\n",
       "      <td>2.300000e+01</td>\n",
       "      <td>6.000000e+00</td>\n",
       "      <td>1.728000e+03</td>\n",
       "      <td>1.715000e+03</td>\n",
       "      <td>1.909000e+03</td>\n",
       "      <td>1.907000e+03</td>\n",
       "      <td>NaN</td>\n",
       "      <td>3.518000e+03</td>\n",
       "      <td>...</td>\n",
       "      <td>8.000000e+00</td>\n",
       "      <td>1.900000e+01</td>\n",
       "      <td>0.000000e+00</td>\n",
       "      <td>NaN</td>\n",
       "      <td>0.000000e+00</td>\n",
       "      <td>1.600000e+01</td>\n",
       "      <td>0.000000e+00</td>\n",
       "      <td>2.100000e+01</td>\n",
       "      <td>0.000000e+00</td>\n",
       "      <td>2.600000e+01</td>\n",
       "    </tr>\n",
       "    <tr>\n",
       "      <th>max</th>\n",
       "      <td>2008.0</td>\n",
       "      <td>1.200000e+01</td>\n",
       "      <td>3.100000e+01</td>\n",
       "      <td>7.000000e+00</td>\n",
       "      <td>2.400000e+03</td>\n",
       "      <td>2.359000e+03</td>\n",
       "      <td>2.400000e+03</td>\n",
       "      <td>2.400000e+03</td>\n",
       "      <td>NaN</td>\n",
       "      <td>9.743000e+03</td>\n",
       "      <td>...</td>\n",
       "      <td>3.080000e+02</td>\n",
       "      <td>4.290000e+02</td>\n",
       "      <td>1.000000e+00</td>\n",
       "      <td>NaN</td>\n",
       "      <td>1.000000e+00</td>\n",
       "      <td>2.436000e+03</td>\n",
       "      <td>1.352000e+03</td>\n",
       "      <td>1.357000e+03</td>\n",
       "      <td>3.920000e+02</td>\n",
       "      <td>1.316000e+03</td>\n",
       "    </tr>\n",
       "  </tbody>\n",
       "</table>\n",
       "<p>11 rows × 29 columns</p>\n",
       "</div>"
      ],
      "text/plain": [
       "             Year         Month    DayofMonth     DayOfWeek       DepTime  \\\n",
       "count   7009728.0  7.009728e+06  7.009728e+06  7.009728e+06  6.873482e+06   \n",
       "unique        NaN           NaN           NaN           NaN           NaN   \n",
       "top           NaN           NaN           NaN           NaN           NaN   \n",
       "freq          NaN           NaN           NaN           NaN           NaN   \n",
       "mean       2008.0  6.375130e+00  1.572801e+01  3.924182e+00  1.333830e+03   \n",
       "std           0.0  3.406737e+00  8.797068e+00  1.988259e+00  4.780689e+02   \n",
       "min        2008.0  1.000000e+00  1.000000e+00  1.000000e+00  1.000000e+00   \n",
       "25%        2008.0  3.000000e+00  8.000000e+00  2.000000e+00  9.280000e+02   \n",
       "50%        2008.0  6.000000e+00  1.600000e+01  4.000000e+00  1.325000e+03   \n",
       "75%        2008.0  9.000000e+00  2.300000e+01  6.000000e+00  1.728000e+03   \n",
       "max        2008.0  1.200000e+01  3.100000e+01  7.000000e+00  2.400000e+03   \n",
       "\n",
       "          CRSDepTime       ArrTime    CRSArrTime UniqueCarrier     FlightNum  \\\n",
       "count   7.009728e+06  6.858079e+06  7.009728e+06       7009728  7.009728e+06   \n",
       "unique           NaN           NaN           NaN            20           NaN   \n",
       "top              NaN           NaN           NaN            WN           NaN   \n",
       "freq             NaN           NaN           NaN       1201754           NaN   \n",
       "mean    1.326086e+03  1.481258e+03  1.494801e+03           NaN  2.224200e+03   \n",
       "std     4.642509e+02  5.052251e+02  4.826728e+02           NaN  1.961716e+03   \n",
       "min     0.000000e+00  1.000000e+00  0.000000e+00           NaN  1.000000e+00   \n",
       "25%     9.250000e+02  1.107000e+03  1.115000e+03           NaN  6.220000e+02   \n",
       "50%     1.320000e+03  1.512000e+03  1.517000e+03           NaN  1.571000e+03   \n",
       "75%     1.715000e+03  1.909000e+03  1.907000e+03           NaN  3.518000e+03   \n",
       "max     2.359000e+03  2.400000e+03  2.400000e+03           NaN  9.743000e+03   \n",
       "\n",
       "              ...                TaxiIn       TaxiOut     Cancelled  \\\n",
       "count         ...          6.858079e+06  6.872670e+06  7.009728e+06   \n",
       "unique        ...                   NaN           NaN           NaN   \n",
       "top           ...                   NaN           NaN           NaN   \n",
       "freq          ...                   NaN           NaN           NaN   \n",
       "mean          ...          6.860852e+00  1.645305e+01  1.960618e-02   \n",
       "std           ...          4.933649e+00  1.133280e+01  1.386426e-01   \n",
       "min           ...          0.000000e+00  0.000000e+00  0.000000e+00   \n",
       "25%           ...          4.000000e+00  1.000000e+01  0.000000e+00   \n",
       "50%           ...          6.000000e+00  1.400000e+01  0.000000e+00   \n",
       "75%           ...          8.000000e+00  1.900000e+01  0.000000e+00   \n",
       "max           ...          3.080000e+02  4.290000e+02  1.000000e+00   \n",
       "\n",
       "        CancellationCode      Diverted  CarrierDelay  WeatherDelay  \\\n",
       "count             137434  7.009728e+06  1.524735e+06  1.524735e+06   \n",
       "unique                 4           NaN           NaN           NaN   \n",
       "top                    B           NaN           NaN           NaN   \n",
       "freq               54904           NaN           NaN           NaN   \n",
       "mean                 NaN  2.463006e-03  1.577206e+01  3.039031e+00   \n",
       "std                  NaN  4.956753e-02  4.009912e+01  1.950287e+01   \n",
       "min                  NaN  0.000000e+00  0.000000e+00  0.000000e+00   \n",
       "25%                  NaN  0.000000e+00  0.000000e+00  0.000000e+00   \n",
       "50%                  NaN  0.000000e+00  0.000000e+00  0.000000e+00   \n",
       "75%                  NaN  0.000000e+00  1.600000e+01  0.000000e+00   \n",
       "max                  NaN  1.000000e+00  2.436000e+03  1.352000e+03   \n",
       "\n",
       "            NASDelay  SecurityDelay  LateAircraftDelay  \n",
       "count   1.524735e+06   1.524735e+06       1.524735e+06  \n",
       "unique           NaN            NaN                NaN  \n",
       "top              NaN            NaN                NaN  \n",
       "freq             NaN            NaN                NaN  \n",
       "mean    1.716462e+01   7.497434e-02       2.077098e+01  \n",
       "std     3.189495e+01   1.837940e+00       3.925964e+01  \n",
       "min     0.000000e+00   0.000000e+00       0.000000e+00  \n",
       "25%     0.000000e+00   0.000000e+00       0.000000e+00  \n",
       "50%     6.000000e+00   0.000000e+00       0.000000e+00  \n",
       "75%     2.100000e+01   0.000000e+00       2.600000e+01  \n",
       "max     1.357000e+03   3.920000e+02       1.316000e+03  \n",
       "\n",
       "[11 rows x 29 columns]"
      ]
     },
     "execution_count": 2,
     "metadata": {},
     "output_type": "execute_result"
    }
   ],
   "source": [
    "data = pd.read_csv(\"2008.csv.bz2\")\n",
    "data.describe(include='all')"
   ]
  },
  {
   "cell_type": "code",
   "execution_count": null,
   "metadata": {
    "scrolled": true
   },
   "outputs": [],
   "source": [
    "#1\n",
    "print 'The most frequent(mode) = ', data.CancellationCode.mode()[0]\n",
    "\n",
    "#2\n",
    "print data.Distance.min(), data.Distance.max()\n",
    "\n",
    "#3\n",
    "flightNums = [i for i in data[data.Distance == data.Distance.min()].FlightNum]\n",
    "print 'Flight numbers with shortest distance', flightNums\n",
    "print 'Days with shortest distance', [i for i in data[data.Distance == data.Distance.min()].DayofMonth]\n",
    "print 'Another flight distances'\n",
    "for j in range(len(flightNums)):\n",
    "    print j, [i for i in data[data.FlightNum == flightNums[j]].Distance], '\\n'\n"
   ]
  },
  {
   "cell_type": "code",
   "execution_count": null,
   "metadata": {},
   "outputs": [],
   "source": [
    "airportsDf = pd.read_csv('airports.csv')\n",
    "\n",
    "mostFrequentAirportCode = data.Origin.mode()[0]\n",
    "\n",
    "#4\n",
    "print (airportsDf[airportsDf.iata == mostFrequentAirportCode].city)\n",
    "\n",
    "#5\n",
    "print(data.groupby('Origin')[\"AirTime\"].mean())\n",
    "print(data.groupby('Origin')[\"AirTime\"].mean().idxmax())\n"
   ]
  },
  {
   "cell_type": "code",
   "execution_count": null,
   "metadata": {},
   "outputs": [],
   "source": [
    "y = data.groupby('Origin')['DepDelay']\n",
    "x = data[data.DepDelay > 0].groupby('Origin')['DepDelay'](x.count() / y.count() * (y.count() >= 1000)).idxmax()\n",
    "print(x)"
   ]
  },
  {
   "cell_type": "markdown",
   "metadata": {},
   "source": [
    "## Часть 2: метрические методы и категориальные признаки"
   ]
  },
  {
   "cell_type": "markdown",
   "metadata": {},
   "source": [
    "Все дальнейшие эксперименты предлагается проводить на данных соревнования Amazon Employee Access Challenge: https://www.kaggle.com/c/amazon-employee-access-challenge\n",
    "\n",
    "В данной задаче предлагается предсказать, будет ли одобрен запрос сотрудника на получение доступа к тому или иному ресурсу. Все признаки являются категориальными.\n",
    "\n",
    "Для удобства данные можно загрузить по ссылке: https://www.dropbox.com/s/q6fbs1vvhd5kvek/amazon.csv\n",
    "\n",
    "Сразу прочитаем данные и создадим разбиение на обучение и контроль:"
   ]
  },
  {
   "cell_type": "code",
   "execution_count": 5,
   "metadata": {},
   "outputs": [
    {
     "data": {
      "text/html": [
       "<div>\n",
       "<style scoped>\n",
       "    .dataframe tbody tr th:only-of-type {\n",
       "        vertical-align: middle;\n",
       "    }\n",
       "\n",
       "    .dataframe tbody tr th {\n",
       "        vertical-align: top;\n",
       "    }\n",
       "\n",
       "    .dataframe thead th {\n",
       "        text-align: right;\n",
       "    }\n",
       "</style>\n",
       "<table border=\"1\" class=\"dataframe\">\n",
       "  <thead>\n",
       "    <tr style=\"text-align: right;\">\n",
       "      <th></th>\n",
       "      <th>ACTION</th>\n",
       "      <th>RESOURCE</th>\n",
       "      <th>MGR_ID</th>\n",
       "      <th>ROLE_ROLLUP_1</th>\n",
       "      <th>ROLE_ROLLUP_2</th>\n",
       "      <th>ROLE_DEPTNAME</th>\n",
       "      <th>ROLE_TITLE</th>\n",
       "      <th>ROLE_FAMILY_DESC</th>\n",
       "      <th>ROLE_FAMILY</th>\n",
       "      <th>ROLE_CODE</th>\n",
       "    </tr>\n",
       "  </thead>\n",
       "  <tbody>\n",
       "    <tr>\n",
       "      <th>0</th>\n",
       "      <td>1</td>\n",
       "      <td>39353</td>\n",
       "      <td>85475</td>\n",
       "      <td>117961</td>\n",
       "      <td>118300</td>\n",
       "      <td>123472</td>\n",
       "      <td>117905</td>\n",
       "      <td>117906</td>\n",
       "      <td>290919</td>\n",
       "      <td>117908</td>\n",
       "    </tr>\n",
       "    <tr>\n",
       "      <th>1</th>\n",
       "      <td>1</td>\n",
       "      <td>17183</td>\n",
       "      <td>1540</td>\n",
       "      <td>117961</td>\n",
       "      <td>118343</td>\n",
       "      <td>123125</td>\n",
       "      <td>118536</td>\n",
       "      <td>118536</td>\n",
       "      <td>308574</td>\n",
       "      <td>118539</td>\n",
       "    </tr>\n",
       "    <tr>\n",
       "      <th>2</th>\n",
       "      <td>1</td>\n",
       "      <td>36724</td>\n",
       "      <td>14457</td>\n",
       "      <td>118219</td>\n",
       "      <td>118220</td>\n",
       "      <td>117884</td>\n",
       "      <td>117879</td>\n",
       "      <td>267952</td>\n",
       "      <td>19721</td>\n",
       "      <td>117880</td>\n",
       "    </tr>\n",
       "    <tr>\n",
       "      <th>3</th>\n",
       "      <td>1</td>\n",
       "      <td>36135</td>\n",
       "      <td>5396</td>\n",
       "      <td>117961</td>\n",
       "      <td>118343</td>\n",
       "      <td>119993</td>\n",
       "      <td>118321</td>\n",
       "      <td>240983</td>\n",
       "      <td>290919</td>\n",
       "      <td>118322</td>\n",
       "    </tr>\n",
       "    <tr>\n",
       "      <th>4</th>\n",
       "      <td>1</td>\n",
       "      <td>42680</td>\n",
       "      <td>5905</td>\n",
       "      <td>117929</td>\n",
       "      <td>117930</td>\n",
       "      <td>119569</td>\n",
       "      <td>119323</td>\n",
       "      <td>123932</td>\n",
       "      <td>19793</td>\n",
       "      <td>119325</td>\n",
       "    </tr>\n",
       "  </tbody>\n",
       "</table>\n",
       "</div>"
      ],
      "text/plain": [
       "   ACTION  RESOURCE  MGR_ID  ROLE_ROLLUP_1  ROLE_ROLLUP_2  ROLE_DEPTNAME  \\\n",
       "0       1     39353   85475         117961         118300         123472   \n",
       "1       1     17183    1540         117961         118343         123125   \n",
       "2       1     36724   14457         118219         118220         117884   \n",
       "3       1     36135    5396         117961         118343         119993   \n",
       "4       1     42680    5905         117929         117930         119569   \n",
       "\n",
       "   ROLE_TITLE  ROLE_FAMILY_DESC  ROLE_FAMILY  ROLE_CODE  \n",
       "0      117905            117906       290919     117908  \n",
       "1      118536            118536       308574     118539  \n",
       "2      117879            267952        19721     117880  \n",
       "3      118321            240983       290919     118322  \n",
       "4      119323            123932        19793     119325  "
      ]
     },
     "execution_count": 5,
     "metadata": {},
     "output_type": "execute_result"
    }
   ],
   "source": [
    "data = pd.read_csv('amazon.csv')\n",
    "data.head()"
   ]
  },
  {
   "cell_type": "code",
   "execution_count": 6,
   "metadata": {},
   "outputs": [
    {
     "data": {
      "text/plain": [
       "(32769, 10)"
      ]
     },
     "execution_count": 6,
     "metadata": {},
     "output_type": "execute_result"
    }
   ],
   "source": [
    "data.shape"
   ]
  },
  {
   "cell_type": "code",
   "execution_count": 7,
   "metadata": {},
   "outputs": [
    {
     "data": {
      "text/plain": [
       "0.9421099209618847"
      ]
     },
     "execution_count": 7,
     "metadata": {},
     "output_type": "execute_result"
    }
   ],
   "source": [
    "# доля положительных примеров\n",
    "data.ACTION.mean()"
   ]
  },
  {
   "cell_type": "code",
   "execution_count": 8,
   "metadata": {},
   "outputs": [
    {
     "name": "stdout",
     "output_type": "stream",
     "text": [
      "ACTION 2\n",
      "RESOURCE 7518\n",
      "MGR_ID 4243\n",
      "ROLE_ROLLUP_1 128\n",
      "ROLE_ROLLUP_2 177\n",
      "ROLE_DEPTNAME 449\n",
      "ROLE_TITLE 343\n",
      "ROLE_FAMILY_DESC 2358\n",
      "ROLE_FAMILY 67\n",
      "ROLE_CODE 343\n"
     ]
    }
   ],
   "source": [
    "# число значений у признаков\n",
    "for col_name in data.columns:\n",
    "    print col_name, len(data[col_name].unique())"
   ]
  },
  {
   "cell_type": "code",
   "execution_count": 29,
   "metadata": {},
   "outputs": [
    {
     "name": "stdout",
     "output_type": "stream",
     "text": [
      "       RESOURCE  MGR_ID  ROLE_ROLLUP_1  ROLE_ROLLUP_2  ROLE_DEPTNAME  \\\n",
      "1728      40867    8150         117961         118386         119954   \n",
      "22856     38587   14551           5110         117954         117895   \n",
      "27691      3853   51301         118290         118291         121108   \n",
      "8421      45337   49423         117961         118052         123144   \n",
      "5013      40919   87700         118315         118463         118464   \n",
      "9044       6215    6217         117961         118327         118328   \n",
      "25556     20364   15887         117961         118052         120356   \n",
      "25066     75723    4712         117961         118343         118395   \n",
      "29205     78766   65460         118079         118080         117878   \n",
      "3926       6977    5987         117961         118446          16232   \n",
      "31362     34714    2017         117961         118327         121645   \n",
      "22770     37942   20138           5110         117954         117895   \n",
      "2970      45580   25547         117961         118327         118378   \n",
      "1670       1003     795         117961         118225         120551   \n",
      "6517      81319    1350         117961         118052         122938   \n",
      "14986     78372    6454         117961         118343         118856   \n",
      "17585     34451   79100          91261         118026         119362   \n",
      "7439      74016   15516         117961         118052         120304   \n",
      "14509     70481   15790         117961         118225         120663   \n",
      "17941     74196   14638         117961         118052         118992   \n",
      "6647      14665    4500         117961         118052         118881   \n",
      "17813     79956   15779         117961         118300          19772   \n",
      "4985      39333   28253         118315         118316         123089   \n",
      "27863     28340   31067         117893         117894         117895   \n",
      "7249      43635    2594         117961         118300         120410   \n",
      "29161    115327    2610         117961         118327         121979   \n",
      "28416       843    5409         117961         118343         119993   \n",
      "19343     43930   19736         122532         122533         119136   \n",
      "10199     18355    6199         117961         118225         120663   \n",
      "32280       971    6257         117961         118343         118437   \n",
      "...         ...     ...            ...            ...            ...   \n",
      "6103      34302   16133           5110         117954         122672   \n",
      "9798      43425   13812         117961         118225         118320   \n",
      "18672     20284   58557         117980         117981         117920   \n",
      "3498      45790    7822         117961         118327         118492   \n",
      "32648      1020   82459         117961         118386         118522   \n",
      "8960      43546   93627          91261         118026         119507   \n",
      "16035     15739   58689         117916         118011         117884   \n",
      "24902     43737    2594         117961         118300         120410   \n",
      "2543        917    1398         117961         118300         118437   \n",
      "15899     17308    3371         117902         118041         118042   \n",
      "15316     81297   74967         117961         117962         118791   \n",
      "4407      33054    5001         117961         118300         123007   \n",
      "19262     25993  133436         118212         118213         119136   \n",
      "3379      19722    7560         117961         118343         119181   \n",
      "25015     29304   50396         117975         117976         117884   \n",
      "4639      20279   58707         117916         118011         117884   \n",
      "21785      3853    3077         117961         118300         120312   \n",
      "19308      6977    7164         117902         117903         118783   \n",
      "20036     39395   21837         117961         118327         118507   \n",
      "4987      34950    1215         117961         118327         120171   \n",
      "31369     25993   15886         117961         118052         120356   \n",
      "26772     19310   68658           5110         117954         117895   \n",
      "8664      28149    7971         117961         118386         120361   \n",
      "8690      17249    4950         117961         118343         119598   \n",
      "144       30628    7987         117961         118327         120383   \n",
      "10987     28564   52423         119665         119666         117895   \n",
      "20727     38719   51382         118079         118080         117878   \n",
      "26202     32270   61062         117961         118446         120368   \n",
      "29982     79299   55667         117902         118041         117945   \n",
      "12716       691    2983         117961         118343         118700   \n",
      "\n",
      "       ROLE_TITLE  ROLE_FAMILY_DESC  ROLE_FAMILY  ROLE_CODE  \n",
      "1728       118054            118054       117887     118055  \n",
      "22856      117899            117897        19721     117900  \n",
      "27691      126869            118302       118295     126870  \n",
      "8421       118396            269406       118398     118399  \n",
      "5013       118465            162182       118467     118468  \n",
      "9044       119172            184011       118467     119174  \n",
      "25556      123737            305057       118960     123738  \n",
      "25066      123067            269406       118398     123068  \n",
      "29205      117885            118177       117887     117888  \n",
      "3926       118321            117906       290919     118322  \n",
      "31362      118321            117906       290919     118322  \n",
      "22770      117899            117897        19721     117900  \n",
      "2970       120618            304465       118643     120619  \n",
      "1670       118321            117906       290919     118322  \n",
      "6517       117905            117906       290919     117908  \n",
      "14986      117905            172635       290919     117908  \n",
      "17585      119065            158390       118667     119067  \n",
      "7439       118702            132675       118704     118705  \n",
      "14509      117905            117906       290919     117908  \n",
      "17941      118321            290919       290919     118322  \n",
      "6647       118321            117906       290919     118322  \n",
      "17813      118321            117906       290919     118322  \n",
      "4985       118278            292726       290919     118279  \n",
      "27863      117896            117897       117887     117898  \n",
      "7249       128230            302830         4673     128231  \n",
      "29161      117905            240983       290919     117908  \n",
      "28416      118321            240983       290919     118322  \n",
      "19343      119137            141119       118474     119139  \n",
      "10199      118321            117906       290919     118322  \n",
      "32280      117905            117906       290919     117908  \n",
      "...           ...               ...          ...        ...  \n",
      "6103       127389            127390        19721     127391  \n",
      "9798       120690            120691       290919     120692  \n",
      "18672      117879            117886        19721     117880  \n",
      "3498       132692            226262       270488     132694  \n",
      "32648      118321            123513       290919     118322  \n",
      "8960       117905            117906       290919     117908  \n",
      "16035      117885            117913       117887     117888  \n",
      "24902      128230            302830         4673     128231  \n",
      "2543       118321            117906       290919     118322  \n",
      "15899      118043            118044       270488     118046  \n",
      "15316      118368            129597       117887     118486  \n",
      "4407       118826            257115       118424     118828  \n",
      "19262      120056            137119       118474     120058  \n",
      "3379       118321            117906       290919     118322  \n",
      "25015      117885            117913       117887     117888  \n",
      "4639       117885            117913       117887     117888  \n",
      "21785      124194            155644       118363     124196  \n",
      "19308      117905            118036       290919     117908  \n",
      "20036      118890            311441       118398     118892  \n",
      "4987       118054            126488       117887     118055  \n",
      "31369      120357            310997       118424     120359  \n",
      "26772      117879            118250        19721     117880  \n",
      "8664       118259            120721       290919     118261  \n",
      "8690       120006            310997       118424     120008  \n",
      "144        118321            149826       290919     118322  \n",
      "10987      118568            267952        19721     118570  \n",
      "20727      117885            117913       117887     117888  \n",
      "26202      119849            303111       118638     119851  \n",
      "29982      280788            130913       292795     119082  \n",
      "12716      118321            117906       290919     118322  \n",
      "\n",
      "[22938 rows x 9 columns]\n"
     ]
    }
   ],
   "source": [
    "from sklearn.model_selection import train_test_split\n",
    "X_train, X_test, y_train, y_test = train_test_split(data.iloc[:, 1:], data.iloc[:, 0],\n",
    "                                                    test_size=0.3, random_state=241)\n"
   ]
  },
  {
   "cell_type": "markdown",
   "metadata": {},
   "source": [
    "#### 1. Реализуйте три функции расстояния на категориальных признаках, которые обсуждались на втором семинаре.\n",
    "\n",
    "Проще всего будет определить метрики как [user-defined distance](http://scikit-learn.org/stable/modules/generated/sklearn.neighbors.DistanceMetric.html), после чего воспользоваться реализацией kNN из sklearn (в этом случае используйте функцию predict_proba). Можно реализовать метод k ближайших соседей и самостоятально — в этом случае учитите, что он должен возвращать оценку вероятности, то есть отношение объектов первого класса среди соседей к числу соседей).\n",
    "\n",
    "Постарайтесь уделить особое внимание эффективности кода — при реализации метрик \"в лоб\" вы можете столкнуться с очень большим временем выполнения.\n",
    "\n",
    "#### Подсчитайте для каждой из метрик качество на тестовой выборке `X_test` при числе соседей $k = 10$. Мера качества — AUC-ROC.\n",
    "\n",
    "#### Какая функция расстояния оказалась лучшей?"
   ]
  },
  {
   "cell_type": "markdown",
   "metadata": {},
   "source": [
    "#### 2 (бонус). Подберите лучшее (на тестовой выборке) число соседей $k$ для каждой из функций расстояния. Какое наилучшее качество удалось получить?\n",
    "\n",
    "Для подбора можно использовать любые средства из sklearn."
   ]
  },
  {
   "cell_type": "code",
   "execution_count": 10,
   "metadata": {},
   "outputs": [],
   "source": [
    "from sklearn.neighbors import KNeighborsClassifier\n"
   ]
  },
  {
   "cell_type": "code",
   "execution_count": 55,
   "metadata": {},
   "outputs": [],
   "source": [
    "from sklearn.model_selection import GridSearchCV\n",
    "parameters = {'metric':('euclidean', 'manhattan', 'chebyshev'), 'n_neighbors':range(1, 15)}\n",
    "# parameters = {'metric':('euclidean', 'manhattan')}\n"
   ]
  },
  {
   "cell_type": "code",
   "execution_count": 56,
   "metadata": {},
   "outputs": [],
   "source": [
    "\n",
    "model = KNeighborsClassifier()\n",
    "clf = GridSearchCV(model, parameters, cv=3)\n",
    "\n"
   ]
  },
  {
   "cell_type": "code",
   "execution_count": 57,
   "metadata": {},
   "outputs": [
    {
     "name": "stdout",
     "output_type": "stream",
     "text": [
      "0.9384599735530464\n",
      "manhattan\n",
      "KNeighborsClassifier(algorithm='auto', leaf_size=30, metric='manhattan',\n",
      "           metric_params=None, n_jobs=None, n_neighbors=13, p=2,\n",
      "           weights='uniform')\n"
     ]
    }
   ],
   "source": [
    "clf.fit(X_train, y_train)\n",
    "\n",
    "# trained = model.fit(X_train, y_train)\n",
    "print (1.0*clf.predict(X_test) == y_test).sum()/(1.0*len(clf.predict(X_test)))\n",
    "print clf.best_estimator_.metric\n",
    "print clf.best_estimator_\n"
   ]
  },
  {
   "cell_type": "code",
   "execution_count": null,
   "metadata": {
    "collapsed": true
   },
   "outputs": [],
   "source": []
  },
  {
   "cell_type": "markdown",
   "metadata": {},
   "source": [
    "#### 3. Реализуйте счетчики (http://blogs.technet.com/b/machinelearning/archive/2015/02/17/big-learning-made-easy-with-counts.aspx), которые заменят категориальные признаки на вещественные.\n",
    "\n",
    "А именно, каждый категориальный признак нужно заменить на три: \n",
    "1. Число `counts` объектов в обучающей выборке с таким же значением признака.\n",
    "2. Число `successes` объектов первого класса ($y = 1$) в обучающей выборке с таким же значением признака.\n",
    "3. Сглаженное отношение двух предыдущих величин: (`successes` + 1) / (`counts` + 2).\n",
    "\n",
    "Поскольку признаки, содержащие информацию о целевой переменной, могут привести к переобучению, может оказаться полезным сделать *фолдинг*: разбить обучающую выборку на $n$ частей, и для $i$-й части считать `counts` и `successes` по всем остальным частям. Для тестовой выборки используются счетчики, посчитанные по всей обучающей выборке. Реализуйте и такой вариант. Можно использовать $n = 3$.\n",
    "\n",
    "#### Посчитайте на тесте AUC-ROC метода $k$ ближайших соседей с евклидовой метрикой для выборки, где категориальные признаки заменены на счетчики. Сравните по AUC-ROC два варианта формирования выборки — с фолдингом и без. Не забудьте подобрать наилучшее число соседей $k$."
   ]
  },
  {
   "cell_type": "code",
   "execution_count": null,
   "metadata": {
    "collapsed": true
   },
   "outputs": [],
   "source": []
  },
  {
   "cell_type": "markdown",
   "metadata": {},
   "source": [
    "#### 4. Добавьте в исходную выборку парные признаки — то есть для каждой пары $(f_i, f_j)$, $i < j$ исходных категориальных признаков добавьте новый категориальный признак $f_{ij}$, значение которого является конкатенацией значений $f_i$ и $f_j$ (желательно через какой-нибудь специальный символ во избежание коллизий). Посчитайте счетчики для этой выборки, найдите качество метода $k$ ближайших соседей с наилучшим $k$ (с фолдингом и без)."
   ]
  },
  {
   "cell_type": "code",
   "execution_count": null,
   "metadata": {
    "collapsed": true
   },
   "outputs": [],
   "source": []
  },
  {
   "cell_type": "markdown",
   "metadata": {},
   "source": [
    "## Часть 3: Решающие деревья и леса"
   ]
  },
  {
   "cell_type": "markdown",
   "metadata": {},
   "source": [
    "#### 1. Возьмите из предыдущей части выборку с парными признаками, преобразованную с помощью счетчиков без фолдинга. Настройте решающее дерево, подобрав оптимальные значения параметров `max_depth` и `min_samples_leaf`. Какой наилучший AUC-ROC на контроле удалось получить?"
   ]
  },
  {
   "cell_type": "code",
   "execution_count": null,
   "metadata": {
    "collapsed": true
   },
   "outputs": [],
   "source": []
  },
  {
   "cell_type": "markdown",
   "metadata": {},
   "source": [
    "#### 2. Настройте случайный лес, подобрав такое число деревьев `n_estimators`, при котором ошибка выходит на асимптоту. Какое качество на тестовой выборке он дает?"
   ]
  },
  {
   "cell_type": "code",
   "execution_count": null,
   "metadata": {
    "collapsed": true
   },
   "outputs": [],
   "source": []
  },
  {
   "cell_type": "markdown",
   "metadata": {},
   "source": [
    "#### 3. Возьмите выборку с парными признаками, для которой счетчики посчитаны с фолдингом. Обучите на ней случайный лес, подобрав число деревьев. Какое качество на тестовой выборке он дает? Чем вы можете объяснить изменение результата по сравнению с предыдущим пунктом?"
   ]
  },
  {
   "cell_type": "code",
   "execution_count": null,
   "metadata": {
    "collapsed": true
   },
   "outputs": [],
   "source": []
  },
  {
   "cell_type": "code",
   "execution_count": null,
   "metadata": {
    "collapsed": true
   },
   "outputs": [],
   "source": []
  },
  {
   "cell_type": "markdown",
   "metadata": {},
   "source": [
    "Здесь вы можете поделиться своими мыслями о задании."
   ]
  },
  {
   "cell_type": "code",
   "execution_count": null,
   "metadata": {
    "collapsed": true
   },
   "outputs": [],
   "source": []
  },
  {
   "cell_type": "markdown",
   "metadata": {},
   "source": [
    "А здесь вставьте смешную картинку."
   ]
  },
  {
   "cell_type": "code",
   "execution_count": null,
   "metadata": {
    "collapsed": true
   },
   "outputs": [],
   "source": []
  },
  {
   "cell_type": "markdown",
   "metadata": {},
   "source": [
    "А здесь посоветуйте преподавателям хороший фильм или сериал."
   ]
  },
  {
   "cell_type": "code",
   "execution_count": null,
   "metadata": {
    "collapsed": true
   },
   "outputs": [],
   "source": []
  }
 ],
 "metadata": {
  "anaconda-cloud": {},
  "kernelspec": {
   "display_name": "Python 2",
   "language": "python",
   "name": "python2"
  },
  "language_info": {
   "codemirror_mode": {
    "name": "ipython",
    "version": 2
   },
   "file_extension": ".py",
   "mimetype": "text/x-python",
   "name": "python",
   "nbconvert_exporter": "python",
   "pygments_lexer": "ipython2",
   "version": "2.7.15"
  }
 },
 "nbformat": 4,
 "nbformat_minor": 1
}
